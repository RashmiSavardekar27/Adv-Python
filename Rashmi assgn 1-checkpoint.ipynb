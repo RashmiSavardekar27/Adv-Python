{
 "cells": [
  {
   "cell_type": "markdown",
   "id": "fa92b048-b5b6-4ac2-8d52-64e62f2d1fb4",
   "metadata": {},
   "source": [
    "# Input statement:\n",
    "Area of a triangle \n",
    "Take 3 inputs from user, write a formula which calculates area of triangle\n",
    "The area of triangle ABC = √[s × (s – a) × (s – b) × (s – c)]."
   ]
  },
  {
   "cell_type": "code",
   "execution_count": 5,
   "id": "40f2ccb8-0df9-4cf6-874f-66f795a9e59e",
   "metadata": {},
   "outputs": [
    {
     "name": "stdin",
     "output_type": "stream",
     "text": [
      "Enter the value of a : 12\n",
      "Enter the value of b : 10\n",
      "Enter the value of c : 12\n"
     ]
    },
    {
     "name": "stdout",
     "output_type": "stream",
     "text": [
      "Area of Triangle is 54.543560573178574\n"
     ]
    }
   ],
   "source": [
    "A=int(input(\"Enter the value of a :\"))\n",
    "B=int(input(\"Enter the value of b :\"))\n",
    "C=int(input(\"Enter the value of c :\"))\n",
    "S=(A+B+C)/2\n",
    "ABC=(S*(S-A)*(S-B)*(S-C))**(1/2)\n",
    "print(f\"Area of Triangle is {ABC}\")"
   ]
  },
  {
   "cell_type": "markdown",
   "id": "74c1db77-a944-41c9-ae8e-3fee852dbfd7",
   "metadata": {},
   "source": [
    "# If else:\n",
    "Take any number as input from user \n",
    "Check whether it is a positive number\n"
   ]
  },
  {
   "cell_type": "code",
   "execution_count": 11,
   "id": "a2037cc6-73cb-4985-81a6-40df9419eb8e",
   "metadata": {},
   "outputs": [
    {
     "name": "stdin",
     "output_type": "stream",
     "text": [
      "Enter Number 4\n"
     ]
    },
    {
     "name": "stdout",
     "output_type": "stream",
     "text": [
      "given number is positive number\n"
     ]
    }
   ],
   "source": [
    "num=int(input (\"Enter Number\"))\n",
    "if (num>0):\n",
    "    print(\"given number is positive number\")\n",
    "else:\n",
    "    print (\"given number is negetive number\")\n",
    "    "
   ]
  },
  {
   "cell_type": "markdown",
   "id": "94fe73c7-9e6c-4656-a718-c3df9adbbba2",
   "metadata": {},
   "source": [
    "## If elif else:"
   ]
  },
  {
   "cell_type": "code",
   "execution_count": 24,
   "id": "4f749e80-182f-4743-ae29-3b0e87ca45cf",
   "metadata": {},
   "outputs": [
    {
     "name": "stdin",
     "output_type": "stream",
     "text": [
      "Enter the purchase amount 4000\n"
     ]
    },
    {
     "name": "stdout",
     "output_type": "stream",
     "text": [
      "you will get 30% dicount\n"
     ]
    }
   ],
   "source": [
    "Purchase=int(input(\"Enter the purchase amount\"))\n",
    "if (Purchase<1000):\n",
    "    print(\"you will get 0% discount\")\n",
    "elif (1000<Purchase<2000):\n",
    "    print(\"you will get 10% discount\")\n",
    "elif (2000<Purchase<3000):\n",
    "    print(\"you will get 20% discount\")\n",
    "else:\n",
    "    print(\"you will get 30% dicount\")\n",
    "    \n",
    "    \n",
    "    \n",
    "    "
   ]
  },
  {
   "cell_type": "code",
   "execution_count": null,
   "id": "a79e8403-7566-43b1-a6a7-a865a8041ed4",
   "metadata": {},
   "outputs": [],
   "source": []
  }
 ],
 "metadata": {
  "kernelspec": {
   "display_name": "Python [conda env:base] *",
   "language": "python",
   "name": "conda-base-py"
  },
  "language_info": {
   "codemirror_mode": {
    "name": "ipython",
    "version": 3
   },
   "file_extension": ".py",
   "mimetype": "text/x-python",
   "name": "python",
   "nbconvert_exporter": "python",
   "pygments_lexer": "ipython3",
   "version": "3.12.7"
  }
 },
 "nbformat": 4,
 "nbformat_minor": 5
}
