{
 "cells": [
  {
   "cell_type": "markdown",
   "metadata": {},
   "source": [
    " #  Write a single line code to store even data from a range of 50 numbers in a list\n"
   ]
  },
  {
   "cell_type": "markdown",
   "metadata": {},
   "source": [
    "### 3. Create a class vehicle. Create instance attributes speed. \n",
    "Define a method 'accelerate' that takes accelerated speed as input parameter and \n",
    "returns new speed as output i.e( speed + accelerated speed)."
   ]
  },
  {
   "cell_type": "code",
   "execution_count": 35,
   "metadata": {},
   "outputs": [],
   "source": [
    "class vehicle:\n",
    "     def __init__(self,speed):\n",
    "          self.speed=speed\n",
    "     def accelerate(self,acc_speed):\n",
    "          return self.speed+acc_speed\n",
    "\n",
    "             \n"
   ]
  },
  {
   "cell_type": "code",
   "execution_count": 36,
   "metadata": {},
   "outputs": [],
   "source": [
    "vehicle1=vehicle(250)"
   ]
  },
  {
   "cell_type": "code",
   "execution_count": 38,
   "metadata": {},
   "outputs": [
    {
     "data": {
      "text/plain": [
       "250"
      ]
     },
     "execution_count": 38,
     "metadata": {},
     "output_type": "execute_result"
    }
   ],
   "source": [
    "vehicle1.speed"
   ]
  },
  {
   "cell_type": "code",
   "execution_count": 43,
   "metadata": {},
   "outputs": [
    {
     "data": {
      "text/plain": [
       "295"
      ]
     },
     "execution_count": 43,
     "metadata": {},
     "output_type": "execute_result"
    }
   ],
   "source": [
    "vehicle1.accelerate(45)"
   ]
  },
  {
   "cell_type": "code",
   "execution_count": 44,
   "metadata": {},
   "outputs": [],
   "source": [
    "def animal_sound(animal):\n",
    "    animal=animal.lower()\n",
    "    if animal==\"cat\":\n",
    "        print(\"cat says meow\")\n",
    "    elif animal==\"dog\":\n",
    "        print(\"dog says barks\")\n",
    "    elif animal==\"lion\":\n",
    "        print(\"lion says roar\")\n",
    "    elif animal==\"pig\":\n",
    "        print(\"pig says oink\")        \n",
    "    else:\n",
    "        print(\"unknown animal sound\")"
   ]
  },
  {
   "cell_type": "code",
   "execution_count": 47,
   "metadata": {},
   "outputs": [
    {
     "name": "stdout",
     "output_type": "stream",
     "text": [
      "cat says meow\n"
     ]
    }
   ],
   "source": [
    "a=animal_sound(\"cat\")"
   ]
  },
  {
   "cell_type": "code",
   "execution_count": 48,
   "metadata": {},
   "outputs": [
    {
     "name": "stdout",
     "output_type": "stream",
     "text": [
      "cat says meow\n"
     ]
    }
   ],
   "source": [
    "a=animal_sound(\"CAT\")"
   ]
  },
  {
   "cell_type": "code",
   "execution_count": 49,
   "metadata": {},
   "outputs": [],
   "source": [
    "class vehicle:\n",
    "    def __init__(self,speed,color):\n",
    "        self.speed=speed\n",
    "        self.color=color\n",
    "    def vehicle_info(self):\n",
    "        print(f\"we have latest models available at our showroom\")\n"
   ]
  },
  {
   "cell_type": "code",
   "execution_count": 67,
   "metadata": {},
   "outputs": [],
   "source": [
    "class bus(vehicle):\n",
    "    def __init__(self,speed,color,number):\n",
    "        super().__init__(speed,color)\n",
    "        self.number=number\n",
    "    def enquire_bus(self):    \n",
    "        super().__init__(vehicle_info)  "
   ]
  },
  {
   "cell_type": "code",
   "execution_count": 53,
   "metadata": {},
   "outputs": [],
   "source": [
    "vehicle2=vehicle(45,\"blue\")"
   ]
  },
  {
   "cell_type": "code",
   "execution_count": 54,
   "metadata": {},
   "outputs": [
    {
     "data": {
      "text/plain": [
       "'blue'"
      ]
     },
     "execution_count": 54,
     "metadata": {},
     "output_type": "execute_result"
    }
   ],
   "source": [
    "vehicle2.color"
   ]
  },
  {
   "cell_type": "code",
   "execution_count": 55,
   "metadata": {},
   "outputs": [],
   "source": [
    "vehicle3=bus(45,\"blue\",1234)"
   ]
  },
  {
   "cell_type": "code",
   "execution_count": 56,
   "metadata": {},
   "outputs": [
    {
     "data": {
      "text/plain": [
       "1234"
      ]
     },
     "execution_count": 56,
     "metadata": {},
     "output_type": "execute_result"
    }
   ],
   "source": [
    "vehicle3.number"
   ]
  },
  {
   "cell_type": "code",
   "execution_count": 69,
   "metadata": {},
   "outputs": [
    {
     "name": "stdout",
     "output_type": "stream",
     "text": [
      "we have latest models available at our showroom\n"
     ]
    }
   ],
   "source": [
    "vehicle3.vehicle_info()"
   ]
  },
  {
   "cell_type": "code",
   "execution_count": 75,
   "metadata": {},
   "outputs": [],
   "source": [
    "def divide():\n",
    "    try:\n",
    "        a = int(input(\"Enter a number\"))\n",
    "        b = int(input(\"Enter another number\"))\n",
    "        return a/b\n",
    "    except ZeroDivisionError as e:\n",
    "        print(\"DONOT Enter Zero. Enter only numbers other than zero\")"
   ]
  },
  {
   "cell_type": "code",
   "execution_count": 76,
   "metadata": {},
   "outputs": [
    {
     "name": "stdout",
     "output_type": "stream",
     "text": [
      "DONOT Enter Zero. Enter only numbers other than zero\n"
     ]
    }
   ],
   "source": [
    "divi1=divide()\n"
   ]
  },
  {
   "cell_type": "code",
   "execution_count": null,
   "metadata": {},
   "outputs": [],
   "source": []
  }
 ],
 "metadata": {
  "kernelspec": {
   "display_name": "venv",
   "language": "python",
   "name": "python3"
  },
  "language_info": {
   "codemirror_mode": {
    "name": "ipython",
    "version": 3
   },
   "file_extension": ".py",
   "mimetype": "text/x-python",
   "name": "python",
   "nbconvert_exporter": "python",
   "pygments_lexer": "ipython3",
   "version": "3.13.2"
  }
 },
 "nbformat": 4,
 "nbformat_minor": 2
}
